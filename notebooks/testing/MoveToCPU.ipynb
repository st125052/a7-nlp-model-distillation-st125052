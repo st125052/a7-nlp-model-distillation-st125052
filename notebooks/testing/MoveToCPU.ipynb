{
 "cells": [
  {
   "cell_type": "code",
   "execution_count": 1,
   "metadata": {},
   "outputs": [],
   "source": [
    "import torch\n",
    "import pickle"
   ]
  },
  {
   "cell_type": "code",
   "execution_count": 2,
   "metadata": {},
   "outputs": [],
   "source": [
    "device = torch.device(\"cpu\")"
   ]
  },
  {
   "cell_type": "code",
   "execution_count": 3,
   "metadata": {},
   "outputs": [],
   "source": [
    "with open(\"../helper/even-layers-distillation/student_model.pkl\", \"rb\") as f:\n",
    "    student_model = pickle.load(f)\n",
    "    student_model.to(device)\n",
    "\n",
    "with open(\"../helper/even-layers-distillation-cpu/student_model.pkl\", \"wb\") as f:\n",
    "    pickle.dump(student_model, f)"
   ]
  },
  {
   "cell_type": "code",
   "execution_count": 5,
   "metadata": {},
   "outputs": [],
   "source": [
    "with open(\"../helper/odd-layers-distillation/student_model.pkl\", \"rb\") as f:\n",
    "    student_model = pickle.load(f)\n",
    "    student_model.to(device)\n",
    "\n",
    "with open(\"../helper/odd-layers-distillation-cpu/student_model.pkl\", \"wb\") as f:\n",
    "    pickle.dump(student_model, f)"
   ]
  },
  {
   "cell_type": "code",
   "execution_count": 6,
   "metadata": {},
   "outputs": [],
   "source": [
    "with open(\"../helper/low-rank-adaptation/student_model.pkl\", \"rb\") as f:\n",
    "    student_model = pickle.load(f)\n",
    "    student_model.to(device)\n",
    "\n",
    "with open(\"../helper/low-rank-adaptation-cpu/student_model.pkl\", \"wb\") as f:\n",
    "    pickle.dump(student_model, f)"
   ]
  }
 ],
 "metadata": {
  "kernelspec": {
   "display_name": "base",
   "language": "python",
   "name": "python3"
  },
  "language_info": {
   "codemirror_mode": {
    "name": "ipython",
    "version": 3
   },
   "file_extension": ".py",
   "mimetype": "text/x-python",
   "name": "python",
   "nbconvert_exporter": "python",
   "pygments_lexer": "ipython3",
   "version": "3.12.3"
  }
 },
 "nbformat": 4,
 "nbformat_minor": 2
}
