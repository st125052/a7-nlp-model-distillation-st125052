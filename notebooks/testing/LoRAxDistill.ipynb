{
 "cells": [
  {
   "cell_type": "code",
   "execution_count": 1,
   "metadata": {},
   "outputs": [
    {
     "data": {
      "text/plain": [
       "device(type='cpu')"
      ]
     },
     "execution_count": 1,
     "metadata": {},
     "output_type": "execute_result"
    }
   ],
   "source": [
    "import torch\n",
    "import pickle\n",
    "\n",
    "device = torch.device(\"cpu\")\n",
    "device"
   ]
  },
  {
   "cell_type": "code",
   "execution_count": 2,
   "metadata": {},
   "outputs": [],
   "source": [
    "id2word = {\n",
    "    0: 'noHate', \n",
    "    1: 'hate', \n",
    "    2: 'idk/skip', \n",
    "    3: 'relation'\n",
    "}"
   ]
  },
  {
   "cell_type": "code",
   "execution_count": 3,
   "metadata": {},
   "outputs": [],
   "source": [
    "def predict_toxicity_distillation(text, model, tokenizer):\n",
    "    inputs = tokenizer(text, return_tensors=\"pt\", truncation=True, padding=True)\n",
    "    inputs = {k: v.to(device) for k, v in inputs.items()}\n",
    "    with torch.no_grad():\n",
    "        outputs = model(**inputs)\n",
    "    logits = outputs.logits\n",
    "    probs = torch.softmax(logits, dim=-1)\n",
    "    predicted_class = torch.argmax(probs, dim=-1).item()\n",
    "    return id2word[predicted_class], probs[0][predicted_class].item()"
   ]
  },
  {
   "cell_type": "code",
   "execution_count": 4,
   "metadata": {},
   "outputs": [
    {
     "name": "stdout",
     "output_type": "stream",
     "text": [
      "Predicted label: noHate\n",
      "Confidence: 0.6193\n"
     ]
    }
   ],
   "source": [
    "with open(\"../helper/even-layers-distillation/student_model.pkl\", \"rb\") as f:\n",
    "    model = pickle.load(f).to(device)\n",
    "with open(\"../helper/even-layers-distillation/tokenizer.pkl\", \"rb\") as f:\n",
    "    tokenizer = pickle.load(f)\n",
    "\n",
    "# Example usage\n",
    "text = \"He is a good boy!\"\n",
    "label, confidence = predict_toxicity_distillation(text, model, tokenizer)\n",
    "print(f\"Predicted label: {label}\\nConfidence: {confidence:.4f}\")"
   ]
  },
  {
   "cell_type": "code",
   "execution_count": 5,
   "metadata": {},
   "outputs": [
    {
     "name": "stdout",
     "output_type": "stream",
     "text": [
      "Predicted label: noHate\n",
      "Confidence: 0.6128\n"
     ]
    }
   ],
   "source": [
    "with open(\"../helper/odd-layers-distillation/student_model.pkl\", \"rb\") as f:\n",
    "    model = pickle.load(f).to(device)\n",
    "with open(\"../helper/odd-layers-distillation/tokenizer.pkl\", \"rb\") as f:\n",
    "    tokenizer = pickle.load(f)\n",
    "\n",
    "# Example usage\n",
    "text = \"He is a good boy!\"\n",
    "label, confidence = predict_toxicity_distillation(text, model, tokenizer)\n",
    "print(f\"Predicted label: {label}\\nConfidence: {confidence:.4f}\")"
   ]
  }
 ],
 "metadata": {
  "kernelspec": {
   "display_name": "base",
   "language": "python",
   "name": "python3"
  },
  "language_info": {
   "codemirror_mode": {
    "name": "ipython",
    "version": 3
   },
   "file_extension": ".py",
   "mimetype": "text/x-python",
   "name": "python",
   "nbconvert_exporter": "python",
   "pygments_lexer": "ipython3",
   "version": "3.12.3"
  }
 },
 "nbformat": 4,
 "nbformat_minor": 4
}
